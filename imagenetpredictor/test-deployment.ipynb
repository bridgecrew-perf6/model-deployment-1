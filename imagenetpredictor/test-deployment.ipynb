{
 "cells": [
  {
   "cell_type": "markdown",
   "metadata": {},
   "source": [
    "Adapted from: https://github.com/jrosebr1/simple-keras-rest-api"
   ]
  },
  {
   "cell_type": "code",
   "execution_count": 1,
   "metadata": {},
   "outputs": [],
   "source": [
    "import requests"
   ]
  },
  {
   "cell_type": "code",
   "execution_count": 9,
   "metadata": {},
   "outputs": [],
   "source": [
    "# initialize the Keras REST API endpoint URL along with the input\n",
    "# image path\n",
    "KERAS_REST_API_URL = \"http://localhost:5000/predict\"\n",
    "IMAGE_PATH = \"test-image.jpeg\""
   ]
  },
  {
   "cell_type": "code",
   "execution_count": 10,
   "metadata": {},
   "outputs": [],
   "source": [
    "# load the input image and construct the payload for the request\n",
    "image = open(IMAGE_PATH, \"rb\").read()\n",
    "payload = {\"image\": image}"
   ]
  },
  {
   "cell_type": "code",
   "execution_count": 11,
   "metadata": {},
   "outputs": [],
   "source": [
    "# submit the request\n",
    "r = requests.post(KERAS_REST_API_URL, files=payload).json()"
   ]
  },
  {
   "cell_type": "code",
   "execution_count": 12,
   "metadata": {},
   "outputs": [
    {
     "name": "stdout",
     "output_type": "stream",
     "text": [
      "1. church: 0.3919\n",
      "2. restaurant: 0.1426\n",
      "3. fountain: 0.0576\n",
      "4. turnstile: 0.0462\n",
      "5. stage: 0.0378\n"
     ]
    }
   ],
   "source": [
    "# ensure the request was sucessful\n",
    "if r[\"success\"]:\n",
    "\t# loop over the predictions and display them\n",
    "\tfor (i, result) in enumerate(r[\"predictions\"]):\n",
    "\t\tlabel = result[\"label\"]\n",
    "\t\tprob = result[\"probability\"]\n",
    "\t\t\n",
    "\t\tprint(f\"{i+1}. {label}: {prob:.4f}\")\n",
    "\n",
    "# otherwise, the request failed\n",
    "else:\n",
    "\tprint(\"Request failed\")"
   ]
  }
 ],
 "metadata": {
  "kernelspec": {
   "display_name": "Python 3.9.7 ('aimlclasses')",
   "language": "python",
   "name": "python3"
  },
  "language_info": {
   "codemirror_mode": {
    "name": "ipython",
    "version": 3
   },
   "file_extension": ".py",
   "mimetype": "text/x-python",
   "name": "python",
   "nbconvert_exporter": "python",
   "pygments_lexer": "ipython3",
   "version": "3.9.7"
  },
  "orig_nbformat": 4,
  "vscode": {
   "interpreter": {
    "hash": "3c1e73e333da691d1541ae9459c12b06f935e3cff125444867bb111cd49f9379"
   }
  }
 },
 "nbformat": 4,
 "nbformat_minor": 2
}
